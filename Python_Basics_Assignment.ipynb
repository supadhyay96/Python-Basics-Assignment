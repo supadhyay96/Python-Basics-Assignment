{
  "nbformat": 4,
  "nbformat_minor": 0,
  "metadata": {
    "colab": {
      "provenance": []
    },
    "kernelspec": {
      "name": "python3",
      "display_name": "Python 3"
    },
    "language_info": {
      "name": "python"
    }
  },
  "cells": [
    {
      "cell_type": "markdown",
      "source": [
        "**Q1 What is Python, and why is it popular?**\n",
        "\n",
        "    -> Python is a versatile,high level programming language known for its readability and easy to use.\n",
        "    Python is popular for its Simple syntax, Rich libraries,versatile, Cross platform,  Massive Community and Integration-friendly nature."
      ],
      "metadata": {
        "id": "PGa6NfqPNBWF"
      }
    },
    {
      "cell_type": "markdown",
      "source": [
        "**Q2 What is an interpreter in Python?**\n",
        "\n",
        "    -> An interpreter is a program that executes code line-by-line, translating each line into machine code and running it immediately."
      ],
      "metadata": {
        "id": "IWTx6pZNOCPx"
      }
    },
    {
      "cell_type": "markdown",
      "source": [
        "**Q3 What are pre-defined keywords in Python?**\n",
        "\n",
        "    -> Pre-defined keywords in Python are reserved words that are part of the syntax and structure of the language. We cannot use them for variable names or identifiers."
      ],
      "metadata": {
        "id": "ApGb5YKpOTxo"
      }
    },
    {
      "cell_type": "markdown",
      "source": [
        "**Q4 Can keywords be used as variable names?**\n",
        "\n",
        "    -> No, we can not use keywords as a variable because using keyword as variable can confuse the interpreter as it holds a special meaning."
      ],
      "metadata": {
        "id": "EDI5IZ7POy9O"
      }
    },
    {
      "cell_type": "markdown",
      "source": [
        "**Q5 What is mutability in Python?**\n",
        "\n",
        "    -> Objects or container whose state or value can be changed are called as mutable objects or container. This feature of object is called mutability. List is a type of mutable object."
      ],
      "metadata": {
        "id": "hHMn7E-OPbsv"
      }
    },
    {
      "cell_type": "markdown",
      "source": [
        "**Q6 Why are lists mutable, but tuples are immutable?**\n",
        "\n",
        "    -> Lists in Python are mutable because they are designed to store dynamic data that can change—items can be added, removed, or modified. Tuples, on the other hand, are immutable to ensure data integrity and support use cases like keys in dictionaries or fixed records. This immutability makes tuples faster and memory-efficient, offering better performance and safety for constant data. The difference reflects their intended purposes: lists for changeable data, tuples for fixed data."
      ],
      "metadata": {
        "id": "vrWznPVnRaKd"
      }
    },
    {
      "cell_type": "markdown",
      "source": [
        "**Q7 What is the difference between “==” and “is” operators in Python?**\n",
        "\n",
        "    -> In Python, == checks for value equality, meaning it compares whether two variables have the same data or content. In contrast, is checks for identity, meaning it verifies whether two variables point to the same object in memory. For example, a == b is True if a and b contain the same value, while a is b is True only if both refer to the exact same object. Use == for value comparison and is for identity checks."
      ],
      "metadata": {
        "id": "pixKTdFYR9IW"
      }
    },
    {
      "cell_type": "markdown",
      "source": [
        "**Q8 What are logical operators in Python?**\n",
        "\n",
        "    -> Logical operators in Python are used to combine boolean expressions. The main ones are: and (True if both conditions are true), or (True if at least one condition is true), and not (reverses the condition)."
      ],
      "metadata": {
        "id": "QcQdmmLCSZMG"
      }
    },
    {
      "cell_type": "markdown",
      "source": [
        "**Q9 What is type casting in Python ?**\n",
        "\n",
        "    -> Type casting in Python is the process of converting one data type into another, such as from int to float, str to int, etc. It’s done using built-in functions like int(), float(), str(), etc. For example, int(\"5\") converts the string \"5\" to the integer 5."
      ],
      "metadata": {
        "id": "tKVu-uzVSx7Z"
      }
    },
    {
      "cell_type": "markdown",
      "source": [
        "**Q10 What is the difference between implicit and explicit type casting?**\n",
        "\n",
        "    -> Implicit type casting is done automatically by Python when converting one data type to another (e.g., int to float) without data loss.\n",
        "    \n",
        "    Explicit type casting is done manually by the programmer using functions like int(), float(), or str() to convert types."
      ],
      "metadata": {
        "id": "WUIJxEXSTBlY"
      }
    },
    {
      "cell_type": "markdown",
      "source": [
        "**Q11 What is the purpose of conditional statements in Python?**\n",
        "\n",
        "    -> The purpose of conditional statements in Python is to allow the program to make decisions and execute code based on specific conditions. They help control the flow of the program using statements like if, elif, and else. For example, if x > 0: runs a block of code only when the condition is true."
      ],
      "metadata": {
        "id": "FwmiZ8NjTW5L"
      }
    },
    {
      "cell_type": "markdown",
      "source": [
        "**Q12 How does the elif statement work?**\n",
        "\n",
        "    -> The elif (short for else if) statement in Python allows you to check multiple conditions after an initial if. It is evaluated only if the previous if or elif conditions are false. Once a true condition is found, its block is executed and the rest are skipped."
      ],
      "metadata": {
        "id": "_5DnraHnTrbr"
      }
    },
    {
      "cell_type": "markdown",
      "source": [
        "**Q13 What is the difference between for and while loops?**\n",
        "\n",
        "    -> The difference between for and while loops in Python lies in how they repeat code:\n",
        "\n",
        "    for loop is used when you know how many times to loop (e.g., iterating over a range or list).\n",
        "\n",
        "    while loop is used when you don't know in advance how many times to loop—it runs as long as a condition is true."
      ],
      "metadata": {
        "id": "BSTVsvDfT9N1"
      }
    },
    {
      "cell_type": "markdown",
      "source": [
        "**Q14 Describe a scenario where a while loop is more suitable than a for loop.**\n",
        "\n",
        "    ->A while loop is more suitable when the number of iterations is unknown and depends on a condition being met during execution."
      ],
      "metadata": {
        "id": "hAqBbwiyUY-w"
      }
    },
    {
      "cell_type": "code",
      "source": [
        "password = \"\"\n",
        "while password != \"admin123\":\n",
        "    password = input(\"Enter password: \")\n",
        "print(\"Access granted!\")\n"
      ],
      "metadata": {
        "colab": {
          "base_uri": "https://localhost:8080/"
        },
        "id": "pO26nvfLUwqg",
        "outputId": "da09ee58-e4e6-4adb-be52-dbabb56fcb98"
      },
      "execution_count": 1,
      "outputs": [
        {
          "output_type": "stream",
          "name": "stdout",
          "text": [
            "Enter password: admin123\n",
            "Access granted!\n"
          ]
        }
      ]
    },
    {
      "cell_type": "markdown",
      "source": [
        "                                     ** PRACTICAL QUESTIONS**"
      ],
      "metadata": {
        "id": "A28_5HO3VFQw"
      }
    },
    {
      "cell_type": "markdown",
      "source": [
        "**Q1 Write a Python program to print \"Hello, World!**"
      ],
      "metadata": {
        "id": "PHgF0LoAVNhp"
      }
    },
    {
      "cell_type": "code",
      "source": [
        "print(\"Hello,World\")"
      ],
      "metadata": {
        "colab": {
          "base_uri": "https://localhost:8080/"
        },
        "id": "jhK2e9I2VUX2",
        "outputId": "7b91a892-4354-4653-c5de-7f94a099a05e"
      },
      "execution_count": 2,
      "outputs": [
        {
          "output_type": "stream",
          "name": "stdout",
          "text": [
            "Hello,World\n"
          ]
        }
      ]
    },
    {
      "cell_type": "markdown",
      "source": [
        "**Q2 Write a Python program that displays your name and age**"
      ],
      "metadata": {
        "id": "T6NEtC0LVbzg"
      }
    },
    {
      "cell_type": "code",
      "source": [
        "name = \"Sakshi\"\n",
        "age = 20\n",
        "\n",
        "print(\"My name is\", name)\n",
        "print(\"I am\", age, \"years old\")\n"
      ],
      "metadata": {
        "colab": {
          "base_uri": "https://localhost:8080/"
        },
        "id": "3Y6Rz6_UVlCP",
        "outputId": "114e1619-3ce0-4107-a179-180b7bbf3311"
      },
      "execution_count": 3,
      "outputs": [
        {
          "output_type": "stream",
          "name": "stdout",
          "text": [
            "My name is Sakshi\n",
            "I am 20 years old\n"
          ]
        }
      ]
    },
    {
      "cell_type": "markdown",
      "source": [
        "**Q3 Write code to print all the pre-defined keywords in Python using the keyword library**"
      ],
      "metadata": {
        "id": "ZhYCjtYhVwjH"
      }
    },
    {
      "cell_type": "code",
      "source": [
        "import keyword\n",
        "\n",
        "print(\"Python Keywords:\")\n",
        "for kw in keyword.kwlist:\n",
        "    print(kw)\n"
      ],
      "metadata": {
        "colab": {
          "base_uri": "https://localhost:8080/"
        },
        "id": "yNoSxcubV_1l",
        "outputId": "f5de14cc-bec3-4aa4-ef29-0f70a2ee52da"
      },
      "execution_count": 4,
      "outputs": [
        {
          "output_type": "stream",
          "name": "stdout",
          "text": [
            "Python Keywords:\n",
            "False\n",
            "None\n",
            "True\n",
            "and\n",
            "as\n",
            "assert\n",
            "async\n",
            "await\n",
            "break\n",
            "class\n",
            "continue\n",
            "def\n",
            "del\n",
            "elif\n",
            "else\n",
            "except\n",
            "finally\n",
            "for\n",
            "from\n",
            "global\n",
            "if\n",
            "import\n",
            "in\n",
            "is\n",
            "lambda\n",
            "nonlocal\n",
            "not\n",
            "or\n",
            "pass\n",
            "raise\n",
            "return\n",
            "try\n",
            "while\n",
            "with\n",
            "yield\n"
          ]
        }
      ]
    },
    {
      "cell_type": "markdown",
      "source": [
        "**Q4 Write a program that checks if a given word is a Python keyword.**"
      ],
      "metadata": {
        "id": "qR2jtOIIWJaH"
      }
    },
    {
      "cell_type": "code",
      "source": [
        "import keyword\n",
        "\n",
        "word = input(\"Enter a word: \")\n",
        "\n",
        "if keyword.iskeyword(word):\n",
        "    print(f\"'{word}' is a Python keyword.\")\n",
        "else:\n",
        "    print(f\"'{word}' is not a Python keyword.\")\n"
      ],
      "metadata": {
        "colab": {
          "base_uri": "https://localhost:8080/"
        },
        "id": "KREp3ojdWTFF",
        "outputId": "3f344cb7-efcb-4493-f46e-9d5e119379ee"
      },
      "execution_count": 5,
      "outputs": [
        {
          "output_type": "stream",
          "name": "stdout",
          "text": [
            "Enter a word: import\n",
            "'import' is a Python keyword.\n"
          ]
        }
      ]
    },
    {
      "cell_type": "markdown",
      "source": [
        "**Q5 . Create a list and tuple in Python, and demonstrate how attempting to change an element works differently for each.**"
      ],
      "metadata": {
        "id": "V5G0Bd3xXHR_"
      }
    },
    {
      "cell_type": "code",
      "source": [
        "my_list = [10, 20, 30]\n",
        "my_tuple = (10, 20, 30)\n",
        "\n",
        "my_list[1] = 99\n",
        "print(\"Modified list:\", my_list)\n",
        "\n",
        "try:\n",
        "    my_tuple[1] = 99\n",
        "except TypeError as e:\n",
        "    print(\"Error modifying tuple:\", e)\n"
      ],
      "metadata": {
        "colab": {
          "base_uri": "https://localhost:8080/"
        },
        "id": "ELaewgW2XRYs",
        "outputId": "4874db84-342d-44d0-838f-f65f87ec19bc"
      },
      "execution_count": 6,
      "outputs": [
        {
          "output_type": "stream",
          "name": "stdout",
          "text": [
            "Modified list: [10, 99, 30]\n",
            "Error modifying tuple: 'tuple' object does not support item assignment\n"
          ]
        }
      ]
    },
    {
      "cell_type": "markdown",
      "source": [
        "**Q6 Write a function to demonstrate the behavior of mutable and immutable arguments.**"
      ],
      "metadata": {
        "id": "Yi1Im1ldXlop"
      }
    },
    {
      "cell_type": "code",
      "source": [
        "def modify_args(a_number, a_list):\n",
        "    a_number += 10\n",
        "    a_list.append(100)\n",
        "    print(\"Inside function:\")\n",
        "    print(\"a_number:\", a_number)\n",
        "    print(\"a_list:\", a_list)\n",
        "\n",
        "num = 5\n",
        "\n",
        "my_list = [1, 2, 3]\n",
        "\n",
        "modify_args(num, my_list)\n",
        "\n",
        "print(\"\\nOutside function:\")\n",
        "print(\"num:\", num)\n",
        "print(\"my_list:\", my_list)\n"
      ],
      "metadata": {
        "colab": {
          "base_uri": "https://localhost:8080/"
        },
        "id": "QbVmPHZYXz_1",
        "outputId": "124bc527-84bc-4542-d313-6ce22d3040ca"
      },
      "execution_count": 7,
      "outputs": [
        {
          "output_type": "stream",
          "name": "stdout",
          "text": [
            "Inside function:\n",
            "a_number: 15\n",
            "a_list: [1, 2, 3, 100]\n",
            "\n",
            "Outside function:\n",
            "num: 5\n",
            "my_list: [1, 2, 3, 100]\n"
          ]
        }
      ]
    },
    {
      "cell_type": "markdown",
      "source": [
        "**Q7  Write a program that performs basic arithmetic operations on two user-input numbers**"
      ],
      "metadata": {
        "id": "5sYl6Bu2YiAX"
      }
    },
    {
      "cell_type": "code",
      "source": [
        "num1 = float(input(\"Enter first number: \"))\n",
        "num2 = float(input(\"Enter second number: \"))\n",
        "\n",
        "\n",
        "print(\"\\nResults:\")\n",
        "print(\"Addition:\", num1 + num2)\n",
        "print(\"Subtraction:\", num1 - num2)\n",
        "print(\"Multiplication:\", num1 * num2)\n",
        "\n",
        "if num2 != 0:\n",
        "    print(\"Division:\", num1 / num2)\n",
        "else:\n",
        "    print(\"Division: Cannot divide by zero\")\n"
      ],
      "metadata": {
        "colab": {
          "base_uri": "https://localhost:8080/"
        },
        "id": "8xysMgvkZJNU",
        "outputId": "78532ac6-10f0-4b39-921f-ce6a3758f4ee"
      },
      "execution_count": 8,
      "outputs": [
        {
          "output_type": "stream",
          "name": "stdout",
          "text": [
            "Enter first number: 12\n",
            "Enter second number: 0\n",
            "\n",
            "Results:\n",
            "Addition: 12.0\n",
            "Subtraction: 12.0\n",
            "Multiplication: 0.0\n",
            "Division: Cannot divide by zero\n"
          ]
        }
      ]
    },
    {
      "cell_type": "markdown",
      "source": [
        "**Q8 Write a program to demonstrate the use of logical operators.**"
      ],
      "metadata": {
        "id": "mbSJq_W9aPra"
      }
    },
    {
      "cell_type": "code",
      "source": [
        "age = int(input(\"Enter your age: \"))\n",
        "has_ticket = input(\"Do you have a ticket? (yes/no): \").lower()\n",
        "\n",
        "print(\"\\nLogical Operator Demonstration:\")\n",
        "\n",
        "if age >= 18 and has_ticket == \"yes\":\n",
        "    print(\"You are allowed to enter.\")\n",
        "else:\n",
        "    print(\"Entry denied (AND condition failed).\")\n",
        "\n",
        "if age >= 18 or has_ticket == \"yes\":\n",
        "    print(\"You qualify by at least one condition (OR).\")\n",
        "else:\n",
        "    print(\"You don't meet any condition (OR).\")\n",
        "\n",
        "if not has_ticket == \"yes\":\n",
        "    print(\"You don't have a ticket (NOT).\")\n"
      ],
      "metadata": {
        "colab": {
          "base_uri": "https://localhost:8080/"
        },
        "id": "8fRT3l8WabER",
        "outputId": "24138bbb-351c-4d90-85dd-ba89dd8f97e3"
      },
      "execution_count": 9,
      "outputs": [
        {
          "output_type": "stream",
          "name": "stdout",
          "text": [
            "Enter your age: 66\n",
            "Do you have a ticket? (yes/no): yes\n",
            "\n",
            "Logical Operator Demonstration:\n",
            "You are allowed to enter.\n",
            "You qualify by at least one condition (OR).\n"
          ]
        }
      ]
    },
    {
      "cell_type": "markdown",
      "source": [
        "**Q9 Write a Python program to convert user input from string to integer, float, and boolean types**"
      ],
      "metadata": {
        "id": "-5z9wOmHa7GB"
      }
    },
    {
      "cell_type": "code",
      "source": [
        "user_input = input(\"Enter a value: \")\n",
        "\n",
        "try:\n",
        "    int_value = int(user_input)\n",
        "    print(\"Integer:\", int_value)\n",
        "except ValueError:\n",
        "    print(\"Cannot convert to integer.\")\n",
        "\n",
        "try:\n",
        "    float_value = float(user_input)\n",
        "    print(\"Float:\", float_value)\n",
        "except ValueError:\n",
        "    print(\"Cannot convert to float.\")\n",
        "\n",
        "bool_value = user_input.strip().lower() not in [\"\", \"false\", \"0\", \"none\"]\n",
        "print(\"Boolean:\", bool_value)\n"
      ],
      "metadata": {
        "colab": {
          "base_uri": "https://localhost:8080/"
        },
        "id": "I1Ib02TFa_3C",
        "outputId": "b905da2a-4519-4d7e-e93f-2c373d8bd9a2"
      },
      "execution_count": 10,
      "outputs": [
        {
          "output_type": "stream",
          "name": "stdout",
          "text": [
            "Enter a value: Sakshi\n",
            "Cannot convert to integer.\n",
            "Cannot convert to float.\n",
            "Boolean: True\n"
          ]
        }
      ]
    },
    {
      "cell_type": "markdown",
      "source": [
        "**Q10  Write code to demonstrate type casting with list elements.**"
      ],
      "metadata": {
        "id": "VzwPrtH_bj8O"
      }
    },
    {
      "cell_type": "code",
      "source": [
        "str_list = [\"10\", \"20\", \"30\", \"40\"]\n",
        "\n",
        "int_list = [int(item) for item in str_list]\n",
        "\n",
        "float_list = [float(item) for item in str_list]\n",
        "\n",
        "print(\"Original string list:\", str_list)\n",
        "print(\"After casting to integers:\", int_list)\n",
        "print(\"After casting to floats:\", float_list)\n"
      ],
      "metadata": {
        "colab": {
          "base_uri": "https://localhost:8080/"
        },
        "id": "w3ME-9Acbq9Z",
        "outputId": "f81365e5-5ae2-4218-84bf-4dc39317ecd3"
      },
      "execution_count": 11,
      "outputs": [
        {
          "output_type": "stream",
          "name": "stdout",
          "text": [
            "Original string list: ['10', '20', '30', '40']\n",
            "After casting to integers: [10, 20, 30, 40]\n",
            "After casting to floats: [10.0, 20.0, 30.0, 40.0]\n"
          ]
        }
      ]
    },
    {
      "cell_type": "markdown",
      "source": [
        "**Q11 Write a program that checks if a number is positive, negative, or zero**"
      ],
      "metadata": {
        "id": "HeNSwmc_b4Pv"
      }
    },
    {
      "cell_type": "code",
      "source": [
        "num = int(input(\"Enter to check the number\"))\n",
        "if(num>0):\n",
        "  print(f\"'{num}' is positive number\")\n",
        "elif(num<0):\n",
        "    print(f\"'{num}' is negative number\")\n",
        "else:\n",
        "   print(f\"'{num}' is Zero\")\n"
      ],
      "metadata": {
        "colab": {
          "base_uri": "https://localhost:8080/"
        },
        "id": "2ZjDFdLWcAOm",
        "outputId": "9dfb766d-3c08-48d5-abfe-510f38227344"
      },
      "execution_count": 12,
      "outputs": [
        {
          "output_type": "stream",
          "name": "stdout",
          "text": [
            "Enter to check the number-23\n",
            "'-23' is negative number\n"
          ]
        }
      ]
    },
    {
      "cell_type": "markdown",
      "source": [
        "**Q12  Write a for loop to print numbers from 1 to 10.**"
      ],
      "metadata": {
        "id": "6e6BYzjWdH7j"
      }
    },
    {
      "cell_type": "code",
      "source": [
        "for i in range(1,11):\n",
        "  print(i)\n"
      ],
      "metadata": {
        "colab": {
          "base_uri": "https://localhost:8080/"
        },
        "id": "mWZb7gN4dNCd",
        "outputId": "7c99b56e-ae6b-4eb8-cb70-fd641c1b3e67"
      },
      "execution_count": 13,
      "outputs": [
        {
          "output_type": "stream",
          "name": "stdout",
          "text": [
            "1\n",
            "2\n",
            "3\n",
            "4\n",
            "5\n",
            "6\n",
            "7\n",
            "8\n",
            "9\n",
            "10\n"
          ]
        }
      ]
    },
    {
      "cell_type": "markdown",
      "source": [
        "**Q13 Write a Python program to find the sum of all even numbers between 1 and 50.**"
      ],
      "metadata": {
        "id": "xaGJYhkJdcN9"
      }
    },
    {
      "cell_type": "code",
      "source": [
        "sum = 0\n",
        "for i in range(1,51):\n",
        "  if(i%2==0):\n",
        "    sum+=i\n",
        "print(\"sum of all even numbers between 1 and 50 is \", sum)\n",
        "\n",
        ""
      ],
      "metadata": {
        "colab": {
          "base_uri": "https://localhost:8080/"
        },
        "id": "hTFMIjL1dizN",
        "outputId": "4881bda5-2498-4187-e932-e946433bb61a"
      },
      "execution_count": 15,
      "outputs": [
        {
          "output_type": "stream",
          "name": "stdout",
          "text": [
            "sum of all even numbers between 1 and 50 is  650\n"
          ]
        }
      ]
    },
    {
      "cell_type": "markdown",
      "source": [
        "**Q14 Write a program to reverse a string using a while loop.**"
      ],
      "metadata": {
        "id": "gLVQj_fHe7VE"
      }
    },
    {
      "cell_type": "code",
      "source": [
        "text = input(\"Enter a string: \")\n",
        "reversed_text = \"\"\n",
        "index = len(text) - 1\n",
        "\n",
        "while index >= 0:\n",
        "    reversed_text += text[index]\n",
        "    index -= 1\n",
        "print(\"Reversed string:\", reversed_text)\n"
      ],
      "metadata": {
        "colab": {
          "base_uri": "https://localhost:8080/"
        },
        "id": "0zqPLsemfBy6",
        "outputId": "47c4984d-f9d8-4668-87bb-c2c90111590f"
      },
      "execution_count": 16,
      "outputs": [
        {
          "output_type": "stream",
          "name": "stdout",
          "text": [
            "Enter a string: Sakshi\n",
            "Reversed string: ihskaS\n"
          ]
        }
      ]
    },
    {
      "cell_type": "markdown",
      "source": [
        "**Q15 Write a Python program to calculate the factorial of a number provided by the user using a while loop.**"
      ],
      "metadata": {
        "id": "DTb6VFogfRUL"
      }
    },
    {
      "cell_type": "code",
      "source": [
        "num = int(input(\"Enter a non-negative integer: \"))\n",
        "\n",
        "factorial = 1\n",
        "i = 1\n",
        "\n",
        "if num < 0:\n",
        "    print(\"Factorial is not defined for negative numbers.\")\n",
        "else:\n",
        "    while i <= num:\n",
        "        factorial *= i\n",
        "        i += 1\n",
        "    print(f\"Factorial of {num} is: {factorial}\")\n"
      ],
      "metadata": {
        "colab": {
          "base_uri": "https://localhost:8080/"
        },
        "id": "tpq4bN9yfXbo",
        "outputId": "de62aeb3-18a3-476e-e45f-ce1848491f28"
      },
      "execution_count": 19,
      "outputs": [
        {
          "output_type": "stream",
          "name": "stdout",
          "text": [
            "Enter a non-negative integer: 5\n",
            "Factorial of 5 is: 120\n"
          ]
        }
      ]
    }
  ]
}